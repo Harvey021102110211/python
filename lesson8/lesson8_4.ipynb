{
 "cells": [
  {
   "cell_type": "code",
   "execution_count": null,
   "id": "45aed1de",
   "metadata": {},
   "outputs": [],
   "source": [
    "### dataclass"
   ]
  },
  {
   "cell_type": "code",
   "execution_count": null,
   "id": "7bf963df",
   "metadata": {},
   "outputs": [],
   "source": [
    "from dataclasses import dataclass\n",
    "\n",
    "@dataclass\n",
    "class Student:\n",
    "    name:str\n",
    "    chinese:int\n",
    "    english:int\n",
    "    math:int"
   ]
  },
  {
   "cell_type": "code",
   "execution_count": null,
   "id": "c1749d06",
   "metadata": {},
   "outputs": [],
   "source": [
    "#透過class Student建立實體\n",
    "students:list[Student] = [Student(name=\"robert\",chinese=98, english=76, math=89),\n",
    " Student(name=\"jenny\",chinese=89,english=78,math=65)]\n",
    "\n",
    "type(students)"
   ]
  },
  {
   "cell_type": "code",
   "execution_count": null,
   "id": "b8933acc",
   "metadata": {},
   "outputs": [],
   "source": [
    "for student in students:\n",
    "    print(student.name)\n",
    "    print(student.chinese)\n",
    "    print(student.math)\n",
    "    print(student.english)\n",
    "    print(\"==================\")"
   ]
  }
 ],
 "metadata": {
  "kernelspec": {
   "display_name": "base",
   "language": "python",
   "name": "python3"
  },
  "language_info": {
   "name": "python",
   "version": "3.13.2"
  }
 },
 "nbformat": 4,
 "nbformat_minor": 5
}
