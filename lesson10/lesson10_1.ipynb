{
 "cells": [
  {
   "cell_type": "markdown",
   "id": "5bc05108",
   "metadata": {},
   "source": [
    "[說明連結](https://www.perplexity.ai/search/8a22aac5-dc37-4bbb-bb81-9edfdd6f0e53)"
   ]
  },
  {
   "cell_type": "code",
   "execution_count": 2,
   "id": "a28a30c3",
   "metadata": {},
   "outputs": [
    {
     "name": "stdout",
     "output_type": "stream",
     "text": [
      "  1.葉祖雄\n",
      "  2.程玫靖\n",
      "  3.郭致恬\n",
      "  4.黃詩妃\n",
      "  5.朱彥志\n",
      "  6.林士凱\n",
      "  7.鄧淑娟\n",
      "  8.黃必琪\n",
      "  9.戴萱能\n",
      " 10.林佳光\n",
      " 11.劉雯芬\n",
      " 12.李慶亮\n",
      " 13.林佳蓉\n",
      " 14.劉依婷\n",
      " 15.吳明妮\n",
      " 16.林怡偉\n",
      " 17.黃政甫\n",
      " 18.王良斌\n",
      " 19.黃嘉琪\n",
      " 20.劉慧君\n",
      " 21.張牧聿\n",
      " 22.張慧君\n",
      " 23.黃淑芬\n",
      " 24.賴又琦\n",
      " 25.楊建安\n",
      " 26.景歡燦\n",
      " 27.蕭淑華\n",
      " 28.洪阿惠\n",
      " 29.吳俐芷\n",
      " 30.唐翊修\n"
     ]
    }
   ],
   "source": [
    "import random\n",
    "\n",
    "file = open(\"names.txt\",encoding='utf-8')\n",
    "contents:list[str] = file.readlines()\n",
    "file.close()\n",
    "names:list[str] = [name.strip() for name in contents]\n",
    "pick = int(input(\"請輸入所需要的姓名數量:\"));\n",
    "\n",
    "for i in range(0, pick):\n",
    "    index = random.randint(0, len(names));\n",
    "    print(f\"{i+1:3d}.{names[index]}\");\n",
    "\n",
    "file.close();\n"
   ]
  },
  {
   "cell_type": "code",
   "execution_count": 5,
   "id": "80c439a1",
   "metadata": {},
   "outputs": [
    {
     "name": "stdout",
     "output_type": "stream",
     "text": [
      "1.劉慧君\n",
      "2.林珈發\n",
      "3.梁柏宇\n",
      "4.簡佳樺\n",
      "5.李政成\n",
      "6.陳冠竹\n",
      "7.黃佩玲\n",
      "8.張慧君\n",
      "9.王柏聖\n",
      "10.黃政甫\n",
      "11.高智超\n",
      "12.李淑芳\n",
      "13.高信宏\n",
      "14.李美洋\n",
      "15.陳家年\n",
      "16.李政白\n",
      "17.吳俐芷\n",
      "18.謝水儒\n",
      "19.錢欣潔\n",
      "20.童建霖\n",
      "21.張牧聿\n",
      "22.鄭佳玲\n",
      "23.劉雯芬\n",
      "24.陳志偉\n",
      "25.賴心怡\n"
     ]
    }
   ],
   "source": [
    "import random\n",
    "\n",
    "file = open(\"names.txt\",encoding='utf-8')\n",
    "contents:list[str] = file.readlines()\n",
    "file.close()\n",
    "names:list[str] = [name.strip() for name in contents]\n",
    "pick = int(input(\"請輸入所需要的姓名數量:\"));\n",
    "\n",
    "for idx, name in enumerate(random.sample(names, pick)):\n",
    "    print(f'{idx+1}.{name}')"
   ]
  },
  {
   "cell_type": "markdown",
   "id": "1bc2aec0",
   "metadata": {},
   "source": [
    "### 建立記憶體的表格資料"
   ]
  },
  {
   "cell_type": "code",
   "execution_count": 4,
   "id": "d5b7f6f6",
   "metadata": {},
   "outputs": [
    {
     "data": {
      "text/plain": [
       "[{'姓名': '黃健發', '國文': 66, '英文': 63, '數學': 58},\n",
       " {'姓名': '馮芳如', '國文': 52, '英文': 61, '數學': 51},\n",
       " {'姓名': '謝貞妃', '國文': 82, '英文': 85, '數學': 53},\n",
       " {'姓名': '楊又源', '國文': 53, '英文': 91, '數學': 93},\n",
       " {'姓名': '錢佩豪', '國文': 67, '英文': 77, '數學': 71},\n",
       " {'姓名': '余丞苓', '國文': 74, '英文': 61, '數學': 67},\n",
       " {'姓名': '吳志宣', '國文': 99, '英文': 83, '數學': 55},\n",
       " {'姓名': '黃旻林', '國文': 74, '英文': 81, '數學': 80},\n",
       " {'姓名': '藍哲嘉', '國文': 55, '英文': 91, '數學': 51},\n",
       " {'姓名': '林俊翔', '國文': 57, '英文': 50, '數學': 62},\n",
       " {'姓名': '周怡啟', '國文': 94, '英文': 99, '數學': 79},\n",
       " {'姓名': '林康亮', '國文': 50, '英文': 94, '數學': 58},\n",
       " {'姓名': '陳姵彬', '國文': 57, '英文': 73, '數學': 85},\n",
       " {'姓名': '林佳慧', '國文': 73, '英文': 51, '數學': 62},\n",
       " {'姓名': '林淑安', '國文': 50, '英文': 68, '數學': 93},\n",
       " {'姓名': '孫宜珊', '國文': 98, '英文': 60, '數學': 91},\n",
       " {'姓名': '高信宏', '國文': 53, '英文': 71, '數學': 80},\n",
       " {'姓名': '張伊映', '國文': 75, '英文': 78, '數學': 51},\n",
       " {'姓名': '蕭怡伶', '國文': 97, '英文': 80, '數學': 55},\n",
       " {'姓名': '周家銘', '國文': 66, '英文': 65, '數學': 53}]"
      ]
     },
     "execution_count": 4,
     "metadata": {},
     "output_type": "execute_result"
    }
   ],
   "source": [
    "import random\n",
    "\n",
    "with open(\"names.txt\",encoding='utf-8') as file:\n",
    "    contents:list[str] = file.readlines()\n",
    "\n",
    "names:list[str] = [name.strip() for name in contents]\n",
    "pick = int(input(\"請輸入所需要的姓名數量:\"));\n",
    "\n",
    "selected_names = random.sample(names, pick)\n",
    "students_data:list[dict] = [\n",
    "    {\n",
    "        '姓名':name,\n",
    "        '國文':random.randint(50,100),\n",
    "        '英文':random.randint(50,100),\n",
    "        '數學':random.randint(50, 100) \n",
    "    }\n",
    "    for name in selected_names]\n",
    "students_data"
   ]
  },
  {
   "cell_type": "markdown",
   "id": "c3ba2949",
   "metadata": {},
   "source": [
    "### 利用csv.DictWriter(),建立csv檔"
   ]
  },
  {
   "cell_type": "code",
   "execution_count": 6,
   "id": "cef7fedd",
   "metadata": {},
   "outputs": [
    {
     "name": "stdout",
     "output_type": "stream",
     "text": [
      "寫入成功\n"
     ]
    }
   ],
   "source": [
    "# 指定欄位名稱（欄位順序）\n",
    "import csv\n",
    "\n",
    "filednames = students_data[0].keys()\n",
    "\n",
    "with open('students.csv','w',newline='',encoding='utf-8') as csvfile:\n",
    "    writer = csv.DictWriter(csvfile,fieldnames=filednames)\n",
    "    # 寫入欄位標題\n",
    "    writer.writeheader()\n",
    "    \n",
    "    # 寫入多筆資料\n",
    "    writer.writerows(students_data)\n",
    "print(\"寫入成功\")\n",
    "\n"
   ]
  }
 ],
 "metadata": {
  "kernelspec": {
   "display_name": "base",
   "language": "python",
   "name": "python3"
  },
  "language_info": {
   "codemirror_mode": {
    "name": "ipython",
    "version": 3
   },
   "file_extension": ".py",
   "mimetype": "text/x-python",
   "name": "python",
   "nbconvert_exporter": "python",
   "pygments_lexer": "ipython3",
   "version": "3.13.2"
  }
 },
 "nbformat": 4,
 "nbformat_minor": 5
}
