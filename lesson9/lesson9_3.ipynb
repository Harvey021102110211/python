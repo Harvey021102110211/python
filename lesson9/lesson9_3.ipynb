{
 "cells": [
  {
   "cell_type": "markdown",
   "id": "ef4a95f8",
   "metadata": {},
   "source": [
    "### list實體\n"
   ]
  },
  {
   "cell_type": "code",
   "execution_count": 1,
   "id": "af7a2784",
   "metadata": {},
   "outputs": [
    {
     "name": "stdout",
     "output_type": "stream",
     "text": [
      "<class 'list'>\n"
     ]
    }
   ],
   "source": [
    "list1 = [89, 92, 74, 35, 67]\n",
    "print(type(list1))"
   ]
  },
  {
   "cell_type": "code",
   "execution_count": 2,
   "id": "c4fc512e",
   "metadata": {},
   "outputs": [
    {
     "data": {
      "text/plain": [
       "35"
      ]
     },
     "execution_count": 2,
     "metadata": {},
     "output_type": "execute_result"
    }
   ],
   "source": [
    "#內建function\n",
    "max(list1)\n",
    "min(list1)"
   ]
  },
  {
   "cell_type": "code",
   "execution_count": 3,
   "id": "78c1b249",
   "metadata": {},
   "outputs": [],
   "source": [
    "list1.append(100)"
   ]
  },
  {
   "cell_type": "code",
   "execution_count": 4,
   "id": "85431b12",
   "metadata": {},
   "outputs": [],
   "source": [
    "list1.extend([99,98])"
   ]
  },
  {
   "cell_type": "code",
   "execution_count": 5,
   "id": "534e530e",
   "metadata": {},
   "outputs": [
    {
     "data": {
      "text/plain": [
       "98"
      ]
     },
     "execution_count": 5,
     "metadata": {},
     "output_type": "execute_result"
    }
   ],
   "source": [
    "list1.pop()"
   ]
  },
  {
   "cell_type": "code",
   "execution_count": 6,
   "id": "5d768bb4",
   "metadata": {},
   "outputs": [
    {
     "data": {
      "text/plain": [
       "[89, 92, 74, 35, 67, 100, 99]"
      ]
     },
     "execution_count": 6,
     "metadata": {},
     "output_type": "execute_result"
    }
   ],
   "source": [
    "list1"
   ]
  }
 ],
 "metadata": {
  "kernelspec": {
   "display_name": "base",
   "language": "python",
   "name": "python3"
  },
  "language_info": {
   "codemirror_mode": {
    "name": "ipython",
    "version": 3
   },
   "file_extension": ".py",
   "mimetype": "text/x-python",
   "name": "python",
   "nbconvert_exporter": "python",
   "pygments_lexer": "ipython3",
   "version": "3.13.2"
  }
 },
 "nbformat": 4,
 "nbformat_minor": 5
}
